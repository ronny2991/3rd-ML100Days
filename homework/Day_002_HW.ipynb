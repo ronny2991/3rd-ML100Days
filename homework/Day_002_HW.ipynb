{
 "cells": [
  {
   "cell_type": "markdown",
   "metadata": {},
   "source": [
    "## [作業目標]\n",
    "了解機器學習適合應用的領域與範疇。"
   ]
  },
  {
   "cell_type": "markdown",
   "metadata": {},
   "source": [
    "## [作業重點]\n",
    "透過瞭解機器學習的運作方式，找出非常適用機器學習應用的領域及其原因"
   ]
  },
  {
   "cell_type": "markdown",
   "metadata": {},
   "source": [
    "## 作業\n",
    "請找出一個你認為機器學習可以發光發熱的領域並闡述原因? "
   ]
  },
  {
   "cell_type": "code",
   "execution_count": null,
   "metadata": {},
   "outputs": [],
   "source": [
    "    我認為如果可以將監視器與機器學習結合在一起的話，能夠從人們的行為推斷出未來可能發生的事，以幫助社會順利的運行。\n",
    "    1.行人的步伐紊亂、行車軌跡飄動，則可推斷飲酒的可能性高，進而通知警察先行取締，避免交通意外。\n",
    "    2.或是商店周遭有行事可疑的人，也能提早防範搶劫或是竊盜等事情發生。\n",
    "    3.亦或是想輕身的人民，可從購買的物品，等怪異行為發覺。\n",
    "    等等...\n",
    "    因此能夠預防或是提前處理的話，可以省去隱藏中的社會成本，為國家省去開銷。"
   ]
  }
 ],
 "metadata": {
  "kernelspec": {
   "display_name": "Python 3",
   "language": "python",
   "name": "python3"
  },
  "language_info": {
   "codemirror_mode": {
    "name": "ipython",
    "version": 3
   },
   "file_extension": ".py",
   "mimetype": "text/x-python",
   "name": "python",
   "nbconvert_exporter": "python",
   "pygments_lexer": "ipython3",
   "version": "3.7.3"
  }
 },
 "nbformat": 4,
 "nbformat_minor": 2
}
